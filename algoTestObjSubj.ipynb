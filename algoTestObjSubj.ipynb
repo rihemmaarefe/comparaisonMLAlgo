{
  "nbformat": 4,
  "nbformat_minor": 0,
  "metadata": {
    "colab": {
      "provenance": [],
      "mount_file_id": "1_4-7KPu6pNoqRy_LhsXF0y52fYXrLVEl",
      "authorship_tag": "ABX9TyMwAknGspEZ+Lu9YfJAi+rf",
      "include_colab_link": true
    },
    "kernelspec": {
      "name": "python3",
      "display_name": "Python 3"
    },
    "language_info": {
      "name": "python"
    }
  },
  "cells": [
    {
      "cell_type": "markdown",
      "metadata": {
        "id": "view-in-github",
        "colab_type": "text"
      },
      "source": [
        "<a href=\"https://colab.research.google.com/github/rihemmaarefe/comparaisonMLAlgo/blob/main/algoTestObjSubj.ipynb\" target=\"_parent\"><img src=\"https://colab.research.google.com/assets/colab-badge.svg\" alt=\"Open In Colab\"/></a>"
      ]
    },
    {
      "cell_type": "code",
      "execution_count": null,
      "metadata": {
        "colab": {
          "base_uri": "https://localhost:8080/"
        },
        "id": "QZN6FUMNZqzi",
        "outputId": "87387d09-daf9-471a-f2ca-740d483d76b3"
      },
      "outputs": [
        {
          "output_type": "stream",
          "name": "stdout",
          "text": [
            "Accuracy: 0.7\n",
            "Prediction: subjective\n"
          ]
        }
      ],
      "source": [
        "# Load the necessary libraries and data\n",
        "\n",
        "import pandas as pd\n",
        "\n",
        "from sklearn.model_selection import train_test_split\n",
        "\n",
        "from sklearn.feature_extraction.text import CountVectorizer\n",
        "\n",
        "from sklearn.naive_bayes import MultinomialNB\n",
        "\n",
        "from sklearn.metrics import accuracy_score\n",
        "\n",
        "\n",
        "\n",
        "data = pd.read_csv('/content/drive/MyDrive/stage/trainData.csv')\n",
        "\n",
        "X = data['meaning']\n",
        "\n",
        "y = data['category']\n",
        "\n",
        "\n",
        "\n",
        "# Split the data into training and testing sets\n",
        "\n",
        "X_train, X_test, y_train, y_test = train_test_split(X, y, test_size=0.2, random_state=42)\n",
        "\n",
        "\n",
        "\n",
        "# Preprocess the data using the CountVectorizer\n",
        "\n",
        "vectorizer = CountVectorizer(stop_words='english')\n",
        "\n",
        "X_train_counts = vectorizer.fit_transform(X_train)\n",
        "\n",
        "X_test_counts = vectorizer.transform(X_test)\n",
        "\n",
        "\n",
        "\n",
        "# Train a machine learning model\n",
        "\n",
        "model = MultinomialNB()\n",
        "\n",
        "model.fit(X_train_counts, y_train)\n",
        "\n",
        "\n",
        "\n",
        "# Evaluate the model's accuracy on the testing set\n",
        "\n",
        "y_pred = model.predict(X_test_counts)\n",
        "\n",
        "accuracy = accuracy_score(y_test, y_pred)\n",
        "\n",
        "print('Accuracy:', accuracy)\n",
        "\n",
        "\n",
        "\n",
        "# Predict whether new text is objective or subjective\n",
        "\n",
        "new_text = ['All the chemical processes in a living organism producing energy and growth.']\n",
        "\n",
        "new_text_counts = vectorizer.transform(new_text)\n",
        "\n",
        "prediction = model.predict(new_text_counts)\n",
        "\n",
        "print('Prediction:', prediction[0])"
      ]
    },
    {
      "cell_type": "code",
      "source": [
        "from sklearn.tree import DecisionTreeClassifier\n",
        "\n",
        "data = pd.read_csv('/content/drive/MyDrive/stage/trainData.csv')\n",
        "\n",
        "X = data['meaning']\n",
        "\n",
        "y = data['category']\n",
        "\n",
        "# Split the data into training and testing sets\n",
        "\n",
        "X_train, X_test, y_train, y_test = train_test_split(X, y, test_size=0.2, random_state=42)\n",
        "\n",
        "# Preprocess the data using the CountVectorizer\n",
        "\n",
        "vectorizer = CountVectorizer(stop_words='english')\n",
        "\n",
        "X_train_counts = vectorizer.fit_transform(X_train)\n",
        "\n",
        "X_test_counts = vectorizer.transform(X_test)\n",
        "\n",
        "\n",
        "# Train a decision tree classifier\n",
        "model = DecisionTreeClassifier()\n",
        "model.fit(X_train_counts, y_train)\n",
        "\n",
        "# Evaluate the model's accuracy on the testing set\n",
        "y_pred = model.predict(X_test_counts)\n",
        "accuracy = accuracy_score(y_test, y_pred)\n",
        "print('Decision Tree Classifier Accuracy:', accuracy)\n",
        "\n",
        "# Predict whether new text is objective or subjective\n",
        "new_text = ['All the chemical processes in a living organism producing energy and growth.']\n",
        "new_text_counts = vectorizer.transform(new_text)\n",
        "prediction = model.predict(new_text_counts)\n",
        "print('Decision Tree Classifier Prediction:', prediction[0])\n"
      ],
      "metadata": {
        "colab": {
          "base_uri": "https://localhost:8080/"
        },
        "id": "BrAB7gM1aJcf",
        "outputId": "4c991d5b-5eb4-4dff-e1e6-e6af129ab16e"
      },
      "execution_count": null,
      "outputs": [
        {
          "output_type": "stream",
          "name": "stdout",
          "text": [
            "Decision Tree Classifier Accuracy: 0.55\n",
            "Decision Tree Classifier Prediction: objective\n"
          ]
        }
      ]
    },
    {
      "cell_type": "code",
      "source": [
        "from sklearn.ensemble import RandomForestClassifier\n",
        "\n",
        "data = pd.read_csv('/content/drive/MyDrive/stage/trainData.csv')\n",
        "\n",
        "X = data['meaning']\n",
        "\n",
        "y = data['category']\n",
        "\n",
        "# Split the data into training and testing sets\n",
        "\n",
        "X_train, X_test, y_train, y_test = train_test_split(X, y, test_size=0.2, random_state=42)\n",
        "\n",
        "# Preprocess the data using the CountVectorizer\n",
        "\n",
        "vectorizer = CountVectorizer(stop_words='english')\n",
        "\n",
        "X_train_counts = vectorizer.fit_transform(X_train)\n",
        "\n",
        "X_test_counts = vectorizer.transform(X_test)\n",
        "\n",
        "\n",
        "\n",
        "# Train a random forest classifier\n",
        "model = RandomForestClassifier()\n",
        "model.fit(X_train_counts, y_train)\n",
        "\n",
        "# Evaluate the model's accuracy on the testing set\n",
        "y_pred = model.predict(X_test_counts)\n",
        "accuracy = accuracy_score(y_test, y_pred)\n",
        "print('Random Forest Classifier Accuracy:', accuracy)\n",
        "\n",
        "# Predict whether new text is objective or subjective\n",
        "new_text = ['All the chemical processes in a living organism producing energy and growth.']\n",
        "new_text_counts = vectorizer.transform(new_text)\n",
        "prediction = model.predict(new_text_counts)\n",
        "print('Random Forest Classifier Prediction:', prediction[0])\n"
      ],
      "metadata": {
        "colab": {
          "base_uri": "https://localhost:8080/"
        },
        "id": "viw86FaAal7_",
        "outputId": "b1a37209-9a32-4961-eea6-b9ecd38e0518"
      },
      "execution_count": null,
      "outputs": [
        {
          "output_type": "stream",
          "name": "stdout",
          "text": [
            "Random Forest Classifier Accuracy: 0.5\n",
            "Random Forest Classifier Prediction: objective\n"
          ]
        }
      ]
    },
    {
      "cell_type": "code",
      "source": [
        "from sklearn.svm import SVC\n",
        "\n",
        "data = pd.read_csv('/content/drive/MyDrive/stage/trainData.csv')\n",
        "\n",
        "X = data['meaning']\n",
        "\n",
        "y = data['category']\n",
        "\n",
        "# Split the data into training and testing sets\n",
        "\n",
        "X_train, X_test, y_train, y_test = train_test_split(X, y, test_size=0.2, random_state=42)\n",
        "\n",
        "# Preprocess the data using the CountVectorizer\n",
        "\n",
        "vectorizer = CountVectorizer(stop_words='english')\n",
        "\n",
        "X_train_counts = vectorizer.fit_transform(X_train)\n",
        "\n",
        "X_test_counts = vectorizer.transform(X_test)\n",
        "\n",
        "\n",
        "# Train a support vector machine classifier\n",
        "model = SVC()\n",
        "model.fit(X_train_counts, y_train)\n",
        "\n",
        "# Evaluate the model's accuracy on the testing set\n",
        "y_pred = model.predict(X_test_counts)\n",
        "accuracy = accuracy_score(y_test, y_pred)\n",
        "print('SVM Classifier Accuracy:', accuracy)\n",
        "\n",
        "# Predict whether new text is objective or subjective\n",
        "new_text = ['All the chemical processes in a living organism producing energy and growth.']\n",
        "new_text_counts = vectorizer.transform(new_text)\n",
        "prediction = model.predict(new_text_counts)\n",
        "print('SVM Classifier Prediction:', prediction[0])\n"
      ],
      "metadata": {
        "colab": {
          "base_uri": "https://localhost:8080/"
        },
        "id": "jslM8qbsaKjA",
        "outputId": "c2f26ca2-78c8-4ad6-f4d9-3aeb017824f4"
      },
      "execution_count": null,
      "outputs": [
        {
          "output_type": "stream",
          "name": "stdout",
          "text": [
            "SVM Classifier Accuracy: 0.5\n",
            "SVM Classifier Prediction: objective\n"
          ]
        }
      ]
    },
    {
      "cell_type": "markdown",
      "source": [
        "**The best is LogisticRegression**"
      ],
      "metadata": {
        "id": "0RaJOmw11xTI"
      }
    },
    {
      "cell_type": "code",
      "source": [
        "from sklearn.linear_model import LogisticRegression\n",
        "\n",
        "data = pd.read_csv('/content/drive/MyDrive/stage/trainData.csv')\n",
        "\n",
        "X = data['meaning']\n",
        "\n",
        "y = data['category']\n",
        "\n",
        "# Split the data into training and testing sets\n",
        "\n",
        "X_train, X_test, y_train, y_test = train_test_split(X, y, test_size=0.2, random_state=42)\n",
        "\n",
        "# Preprocess the data using the CountVectorizer\n",
        "\n",
        "vectorizer = CountVectorizer(stop_words='english')\n",
        "\n",
        "X_train_counts = vectorizer.fit_transform(X_train)\n",
        "\n",
        "X_test_counts = vectorizer.transform(X_test)\n",
        "\n",
        "\n",
        "# Train a logistic regression classifier\n",
        "model = LogisticRegression()\n",
        "model.fit(X_train_counts, y_train)\n",
        "\n",
        "# Evaluate the model's accuracy on the testing set\n",
        "y_pred = model.predict(X_test_counts)\n",
        "accuracy = accuracy_score(y_test, y_pred)\n",
        "print('Logistic Regression Classifier Accuracy:', accuracy)\n",
        "\n",
        "# Predict whether new text is objective or subjective\n",
        "new_text = ['All the chemical processes in a living organism producing energy and growth.']\n",
        "new_text_counts = vectorizer.transform(new_text)\n",
        "prediction = model.predict(new_text_counts)\n",
        "print('Logistic Regression Classifier Prediction:', prediction[0])\n"
      ],
      "metadata": {
        "colab": {
          "base_uri": "https://localhost:8080/"
        },
        "id": "VhLqE9UHbFnW",
        "outputId": "1c3d6025-5c8d-484a-b39f-8b58cc6c22ae"
      },
      "execution_count": null,
      "outputs": [
        {
          "output_type": "stream",
          "name": "stdout",
          "text": [
            "Logistic Regression Classifier Accuracy: 0.65\n",
            "Logistic Regression Classifier Prediction: objective\n"
          ]
        }
      ]
    },
    {
      "cell_type": "code",
      "source": [
        "from sklearn.neighbors import KNeighborsClassifier\n",
        "\n",
        "data = pd.read_csv('/content/drive/MyDrive/stage/trainData.csv')\n",
        "\n",
        "X = data['meaning']\n",
        "\n",
        "y = data['category']\n",
        "\n",
        "# Split the data into training and testing sets\n",
        "\n",
        "X_train, X_test, y_train, y_test = train_test_split(X, y, test_size=0.2, random_state=42)\n",
        "\n",
        "# Preprocess the data using the CountVectorizer\n",
        "\n",
        "vectorizer = CountVectorizer(stop_words='english')\n",
        "\n",
        "X_train_counts = vectorizer.fit_transform(X_train)\n",
        "\n",
        "X_test_counts = vectorizer.transform(X_test)\n",
        "\n",
        "\n",
        "# Train a k-nearest neighbors classifier\n",
        "model = KNeighborsClassifier()\n",
        "model.fit(X_train_counts, y_train)\n",
        "\n",
        "# Evaluate the model's accuracy on the testing set\n",
        "y_pred = model.predict(X_test_counts)\n",
        "accuracy = accuracy_score(y_test, y_pred)\n",
        "print('K-Nearest Neighbors Classifier Accuracy:', accuracy)\n",
        "\n",
        "# Predict whether new text is objective or subjective\n",
        "new_text = ['All the chemical processes in a living organism producing energy and growth.']\n",
        "new_text_counts = vectorizer.transform(new_text)\n",
        "prediction = model.predict(new_text_counts)\n",
        "print('K-Nearest Neighbors Classifier Prediction:', prediction[0])\n"
      ],
      "metadata": {
        "colab": {
          "base_uri": "https://localhost:8080/"
        },
        "id": "QvhEROKObIbd",
        "outputId": "ade12c88-74e4-4e32-a2d8-f6a0dee4bf4d"
      },
      "execution_count": null,
      "outputs": [
        {
          "output_type": "stream",
          "name": "stdout",
          "text": [
            "K-Nearest Neighbors Classifier Accuracy: 0.45\n",
            "K-Nearest Neighbors Classifier Prediction: subjective\n"
          ]
        }
      ]
    },
    {
      "cell_type": "code",
      "source": [
        "import pandas as pd\n",
        "import numpy as np\n",
        "from sklearn.model_selection import train_test_split\n",
        "from sklearn.preprocessing import LabelEncoder\n",
        "from keras.preprocessing.text import Tokenizer\n",
        "from keras.utils import pad_sequences\n",
        "from keras.models import Sequential\n",
        "from keras.layers import Embedding, Conv1D, MaxPooling1D, Flatten, Dense, Dropout\n",
        "\n",
        "# Load the data\n",
        "data = pd.read_csv('/content/drive/MyDrive/stage/trainData.csv')\n",
        "X = data['meaning']\n",
        "y = data['category']\n",
        "\n",
        "# Convert the labels to numerical values\n",
        "label_encoder = LabelEncoder()\n",
        "y = label_encoder.fit_transform(y)\n",
        "\n",
        "# Split the data into training and testing sets\n",
        "X_train, X_test, y_train, y_test = train_test_split(X, y, test_size=0.2, random_state=42)\n",
        "\n",
        "# Preprocess the data using the Tokenizer\n",
        "tokenizer = Tokenizer(num_words=10000)\n",
        "tokenizer.fit_on_texts(X_train)\n",
        "X_train_seq = tokenizer.texts_to_sequences(X_train)\n",
        "X_test_seq = tokenizer.texts_to_sequences(X_test)\n",
        "vocab_size = len(tokenizer.word_index) + 1\n",
        "\n",
        "# Pad the sequences to a fixed length\n",
        "max_len = 100\n",
        "X_train_pad = pad_sequences(X_train_seq, maxlen=max_len, padding='post', truncating='post')\n",
        "X_test_pad = pad_sequences(X_test_seq, maxlen=max_len, padding='post', truncating='post')\n",
        "\n",
        "# Define the model architecture\n",
        "model = Sequential()\n",
        "model.add(Embedding(input_dim=vocab_size, output_dim=100, input_length=max_len))\n",
        "model.add(Conv1D(filters=128, kernel_size=3, activation='relu'))\n",
        "model.add(MaxPooling1D(pool_size=2))\n",
        "model.add(Flatten())\n",
        "model.add(Dense(128, activation='relu'))\n",
        "model.add(Dropout(0.2))\n",
        "model.add(Dense(1, activation='sigmoid'))\n",
        "\n",
        "# Compile the model\n",
        "model.compile(loss='binary_crossentropy', optimizer='adam', metrics=['accuracy'])\n",
        "\n",
        "# Train the model\n",
        "model.fit(X_train_pad, y_train, epochs=10, batch_size=32, validation_split=0.1)\n",
        "\n",
        "# Evaluate the model's accuracy on the testing set\n",
        "loss, accuracy = model.evaluate(X_test_pad, y_test)\n",
        "print('Accuracy:', accuracy)\n",
        "\n",
        "# Predict whether new text is objective or subjective\n",
        "new_text = ['All the chemical processes in a living organism producing energy and growth.']\n",
        "new_text_seq = tokenizer.texts_to_sequences(new_text)\n",
        "new_text_pad = pad_sequences(new_text_seq, maxlen=max_len, padding='post', truncating='post')\n",
        "prediction = model.predict(new_text_pad)[0]\n",
        "prediction = np.around(prediction).astype(int)\n",
        "print('Prediction:', label_encoder.inverse_transform(prediction)[0])\n"
      ],
      "metadata": {
        "colab": {
          "base_uri": "https://localhost:8080/"
        },
        "id": "5a_tTrcxyvhZ",
        "outputId": "5e02546b-164e-4120-dc69-5af2e5ceef48"
      },
      "execution_count": null,
      "outputs": [
        {
          "output_type": "stream",
          "name": "stdout",
          "text": [
            "Epoch 1/10\n",
            "3/3 [==============================] - 3s 347ms/step - loss: 0.6946 - accuracy: 0.4789 - val_loss: 0.7006 - val_accuracy: 0.5000\n",
            "Epoch 2/10\n",
            "3/3 [==============================] - 0s 121ms/step - loss: 0.6764 - accuracy: 0.5634 - val_loss: 0.6932 - val_accuracy: 0.5000\n",
            "Epoch 3/10\n",
            "3/3 [==============================] - 0s 123ms/step - loss: 0.6592 - accuracy: 0.6338 - val_loss: 0.6878 - val_accuracy: 0.5000\n",
            "Epoch 4/10\n",
            "3/3 [==============================] - 0s 113ms/step - loss: 0.6380 - accuracy: 0.7465 - val_loss: 0.6870 - val_accuracy: 0.5000\n",
            "Epoch 5/10\n",
            "3/3 [==============================] - 0s 86ms/step - loss: 0.6124 - accuracy: 0.7183 - val_loss: 0.6820 - val_accuracy: 0.3750\n",
            "Epoch 6/10\n",
            "3/3 [==============================] - 0s 128ms/step - loss: 0.5717 - accuracy: 0.9577 - val_loss: 0.6818 - val_accuracy: 0.5000\n",
            "Epoch 7/10\n",
            "3/3 [==============================] - 0s 60ms/step - loss: 0.5224 - accuracy: 0.8873 - val_loss: 0.6845 - val_accuracy: 0.5000\n",
            "Epoch 8/10\n",
            "3/3 [==============================] - 0s 121ms/step - loss: 0.4706 - accuracy: 0.9718 - val_loss: 0.6887 - val_accuracy: 0.3750\n",
            "Epoch 9/10\n",
            "3/3 [==============================] - 0s 96ms/step - loss: 0.4141 - accuracy: 0.9437 - val_loss: 0.6918 - val_accuracy: 0.2500\n",
            "Epoch 10/10\n",
            "3/3 [==============================] - 0s 105ms/step - loss: 0.3378 - accuracy: 1.0000 - val_loss: 0.6802 - val_accuracy: 0.6250\n",
            "1/1 [==============================] - 0s 50ms/step - loss: 0.6532 - accuracy: 0.6000\n",
            "Accuracy: 0.6000000238418579\n",
            "1/1 [==============================] - 1s 888ms/step\n",
            "Prediction: subjective\n"
          ]
        }
      ]
    },
    {
      "cell_type": "code",
      "source": [],
      "metadata": {
        "id": "8fEeZv8h0be7"
      },
      "execution_count": null,
      "outputs": []
    }
  ]
}